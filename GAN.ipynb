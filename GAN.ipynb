{
  "nbformat": 4,
  "nbformat_minor": 0,
  "metadata": {
    "colab": {
      "provenance": []
    },
    "kernelspec": {
      "name": "python3",
      "display_name": "Python 3"
    },
    "language_info": {
      "name": "python"
    }
  },
  "cells": [
    {
      "cell_type": "code",
      "execution_count": null,
      "metadata": {
        "id": "z-xjWdVZPLCl"
      },
      "outputs": [],
      "source": [
        "import pandas as pd\n",
        "import numpy as np\n",
        "\n",
        "# Load data\n",
        "ratings = pd.read_csv('epinions_rating.txt', sep=' ', names=['user', 'item', 'rating', 'timestamp'])\n",
        "trust = pd.read_csv('epinions_trust.txt', sep=' ', names=['user', 'trusted_user'])\n",
        "\n",
        "# Create user-item interaction matrix\n",
        "user_item_matrix = ratings.pivot(index='user', columns='item', values='rating').fillna(0)\n"
      ]
    },
    {
      "cell_type": "code",
      "source": [
        "import torch\n",
        "import torch.nn as nn\n",
        "\n",
        "class Generator(nn.Module):\n",
        "    def __init__(self, n_users, n_items, latent_dim):\n",
        "        super(Generator, self).__init__()\n",
        "        self.model = nn.Sequential(\n",
        "            nn.Linear(n_users + n_items, 128),\n",
        "            nn.ReLU(),\n",
        "            nn.Linear(128, 1),  # Predict trust-weighted score\n",
        "            nn.Sigmoid()\n",
        "        )\n",
        "\n",
        "    def forward(self, x):\n",
        "        return self.model(x)\n",
        "\n",
        "class Discriminator(nn.Module):\n",
        "    def __init__(self, n_users, n_items):\n",
        "        super(Discriminator, self).__init__()\n",
        "        self.model = nn.Sequential(\n",
        "            nn.Linear(n_users + n_items, 128),\n",
        "            nn.ReLU(),\n",
        "            nn.Linear(128, 1),\n",
        "            nn.Sigmoid()\n",
        "        )\n",
        "\n",
        "    def forward(self, x):\n",
        "        return self.model(x)\n"
      ],
      "metadata": {
        "id": "BydLWJfuQUz7"
      },
      "execution_count": null,
      "outputs": []
    },
    {
      "cell_type": "code",
      "source": [
        "def train_gan(generator, discriminator, data_loader, epochs, g_optimizer, d_optimizer, criterion):\n",
        "    for epoch in range(epochs):\n",
        "        for real_data in data_loader:\n",
        "            batch_size = real_data.size(0)\n",
        "\n",
        "            # Train discriminator\n",
        "            real_labels = torch.ones(batch_size, 1)\n",
        "            fake_labels = torch.zeros(batch_size, 1)\n",
        "\n",
        "            d_optimizer.zero_grad()\n",
        "            real_outputs = discriminator(real_data)\n",
        "            d_loss_real = criterion(real_outputs, real_labels)\n",
        "\n",
        "            z = torch.randn(batch_size, real_data.size(1))\n",
        "            fake_data = generator(z)\n",
        "            fake_outputs = discriminator(fake_data.detach())\n",
        "            d_loss_fake = criterion(fake_outputs, fake_labels)\n",
        "\n",
        "            d_loss = d_loss_real + d_loss_fake\n",
        "            d_loss.backward()\n",
        "            d_optimizer.step()\n",
        "\n",
        "            # Train generator\n",
        "            g_optimizer.zero_grad()\n",
        "            fake_outputs = discriminator(fake_data)\n",
        "            g_loss = criterion(fake_outputs, real_labels)\n",
        "            g_loss.backward()\n",
        "            g_optimizer.step()\n",
        "\n",
        "        print(f'Epoch [{epoch+1}/{epochs}], D Loss: {d_loss.item():.4f}, G Loss: {g_loss.item():.4f}')\n"
      ],
      "metadata": {
        "id": "3OSSiI0JQXHx"
      },
      "execution_count": null,
      "outputs": []
    }
  ]
}