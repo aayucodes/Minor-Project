{
  "cells": [
    {
      "cell_type": "code",
      "execution_count": null,
      "metadata": {
        "id": "ITlDRQTfTHl0",
        "outputId": "5afe35ca-f056-4566-8cb8-21c52012df71"
      },
      "outputs": [
        {
          "name": "stdout",
          "output_type": "stream",
          "text": [
            "Collecting mlxtend\n",
            "  Downloading mlxtend-0.23.4-py3-none-any.whl.metadata (7.3 kB)\n",
            "Requirement already satisfied: scipy>=1.2.1 in c:\\users\\prath\\anaconda3\\envs\\tf_env\\lib\\site-packages (from mlxtend) (1.15.2)\n",
            "Requirement already satisfied: numpy>=1.16.2 in c:\\users\\prath\\anaconda3\\envs\\tf_env\\lib\\site-packages (from mlxtend) (2.2.5)\n",
            "Requirement already satisfied: pandas>=0.24.2 in c:\\users\\prath\\anaconda3\\envs\\tf_env\\lib\\site-packages (from mlxtend) (2.2.3)\n",
            "Requirement already satisfied: scikit-learn>=1.3.1 in c:\\users\\prath\\anaconda3\\envs\\tf_env\\lib\\site-packages (from mlxtend) (1.6.1)\n",
            "Requirement already satisfied: matplotlib>=3.0.0 in c:\\users\\prath\\anaconda3\\envs\\tf_env\\lib\\site-packages (from mlxtend) (3.10.1)\n",
            "Requirement already satisfied: joblib>=0.13.2 in c:\\users\\prath\\anaconda3\\envs\\tf_env\\lib\\site-packages (from mlxtend) (1.4.2)\n",
            "Requirement already satisfied: contourpy>=1.0.1 in c:\\users\\prath\\anaconda3\\envs\\tf_env\\lib\\site-packages (from matplotlib>=3.0.0->mlxtend) (1.3.1)\n",
            "Requirement already satisfied: cycler>=0.10 in c:\\users\\prath\\anaconda3\\envs\\tf_env\\lib\\site-packages (from matplotlib>=3.0.0->mlxtend) (0.12.1)\n",
            "Requirement already satisfied: fonttools>=4.22.0 in c:\\users\\prath\\anaconda3\\envs\\tf_env\\lib\\site-packages (from matplotlib>=3.0.0->mlxtend) (4.57.0)\n",
            "Requirement already satisfied: kiwisolver>=1.3.1 in c:\\users\\prath\\anaconda3\\envs\\tf_env\\lib\\site-packages (from matplotlib>=3.0.0->mlxtend) (1.4.8)\n",
            "Requirement already satisfied: packaging>=20.0 in c:\\users\\prath\\anaconda3\\envs\\tf_env\\lib\\site-packages (from matplotlib>=3.0.0->mlxtend) (25.0)\n",
            "Requirement already satisfied: pillow>=8 in c:\\users\\prath\\anaconda3\\envs\\tf_env\\lib\\site-packages (from matplotlib>=3.0.0->mlxtend) (11.2.1)\n",
            "Requirement already satisfied: pyparsing>=2.3.1 in c:\\users\\prath\\anaconda3\\envs\\tf_env\\lib\\site-packages (from matplotlib>=3.0.0->mlxtend) (3.2.3)\n",
            "Requirement already satisfied: python-dateutil>=2.7 in c:\\users\\prath\\anaconda3\\envs\\tf_env\\lib\\site-packages (from matplotlib>=3.0.0->mlxtend) (2.9.0.post0)\n",
            "Requirement already satisfied: pytz>=2020.1 in c:\\users\\prath\\anaconda3\\envs\\tf_env\\lib\\site-packages (from pandas>=0.24.2->mlxtend) (2025.2)\n",
            "Requirement already satisfied: tzdata>=2022.7 in c:\\users\\prath\\anaconda3\\envs\\tf_env\\lib\\site-packages (from pandas>=0.24.2->mlxtend) (2025.2)\n",
            "Requirement already satisfied: threadpoolctl>=3.1.0 in c:\\users\\prath\\anaconda3\\envs\\tf_env\\lib\\site-packages (from scikit-learn>=1.3.1->mlxtend) (3.6.0)\n",
            "Requirement already satisfied: six>=1.5 in c:\\users\\prath\\anaconda3\\envs\\tf_env\\lib\\site-packages (from python-dateutil>=2.7->matplotlib>=3.0.0->mlxtend) (1.17.0)\n",
            "Downloading mlxtend-0.23.4-py3-none-any.whl (1.4 MB)\n",
            "   ---------------------------------------- 0.0/1.4 MB ? eta -:--:--\n",
            "   ------------------------------- -------- 1.0/1.4 MB 6.3 MB/s eta 0:00:01\n",
            "   ---------------------------------------- 1.4/1.4 MB 4.4 MB/s eta 0:00:00\n",
            "Installing collected packages: mlxtend\n",
            "Successfully installed mlxtend-0.23.4\n",
            "Note: you may need to restart the kernel to use updated packages.\n"
          ]
        }
      ],
      "source": [
        "%pip install mlxtend"
      ]
    },
    {
      "cell_type": "code",
      "execution_count": 1,
      "metadata": {
        "_cell_guid": "b1076dfc-b9ad-4769-8c92-a6c4dae69d19",
        "_uuid": "8f2839f25d086af736a60e9eeb907d3b93b6e0e5",
        "execution": {
          "iopub.execute_input": "2024-03-29T16:46:18.965605Z",
          "iopub.status.busy": "2024-03-29T16:46:18.964621Z",
          "iopub.status.idle": "2024-03-29T16:46:18.972906Z",
          "shell.execute_reply": "2024-03-29T16:46:18.971320Z",
          "shell.execute_reply.started": "2024-03-29T16:46:18.965566Z"
        },
        "trusted": true,
        "id": "StIzOdOkTHl3"
      },
      "outputs": [],
      "source": [
        "import numpy as np\n",
        "import pandas as pd\n",
        "from sklearn.model_selection import train_test_split\n",
        "from sklearn.metrics import confusion_matrix, classification_report\n",
        "import matplotlib.pyplot as plt\n",
        "from mlxtend.plotting import plot_confusion_matrix\n",
        "from keras.models import Sequential\n",
        "from keras.layers import LSTM, Dense\n",
        "from keras.callbacks import EarlyStopping\n",
        "from sklearn.metrics import roc_curve, precision_recall_curve, auc\n",
        "import numpy as np"
      ]
    },
    {
      "cell_type": "code",
      "execution_count": 2,
      "metadata": {
        "execution": {
          "iopub.execute_input": "2024-03-29T16:46:18.976096Z",
          "iopub.status.busy": "2024-03-29T16:46:18.975596Z",
          "iopub.status.idle": "2024-03-29T16:46:19.566555Z",
          "shell.execute_reply": "2024-03-29T16:46:19.565607Z",
          "shell.execute_reply.started": "2024-03-29T16:46:18.976060Z"
        },
        "trusted": true,
        "id": "5EtLR2TBTHl4"
      },
      "outputs": [],
      "source": [
        "df = pd.read_csv(\"data_file.csv\")\n",
        "cols_to_drop = ['FileName', 'md5Hash']\n",
        "df = df.drop(columns=cols_to_drop)\n",
        "df.drop_duplicates(keep='last', inplace=True)\n",
        "df.to_csv(\"df_clear.csv\")"
      ]
    },
    {
      "cell_type": "code",
      "execution_count": 3,
      "metadata": {
        "execution": {
          "iopub.execute_input": "2024-03-29T16:46:19.568500Z",
          "iopub.status.busy": "2024-03-29T16:46:19.567711Z",
          "iopub.status.idle": "2024-03-29T16:46:19.647830Z",
          "shell.execute_reply": "2024-03-29T16:46:19.646640Z",
          "shell.execute_reply.started": "2024-03-29T16:46:19.568465Z"
        },
        "trusted": true,
        "colab": {
          "base_uri": "https://localhost:8080/"
        },
        "id": "6cSruhOdTHl5",
        "outputId": "6ece007b-8afc-4112-de51-dc4c742d071f"
      },
      "outputs": [
        {
          "output_type": "stream",
          "name": "stdout",
          "text": [
            "<class 'pandas.core.frame.DataFrame'>\n",
            "RangeIndex: 32256 entries, 0 to 32255\n",
            "Data columns (total 17 columns):\n",
            " #   Column              Non-Null Count  Dtype\n",
            "---  ------              --------------  -----\n",
            " 0   Unnamed: 0          32256 non-null  int64\n",
            " 1   Machine             32256 non-null  int64\n",
            " 2   DebugSize           32256 non-null  int64\n",
            " 3   DebugRVA            32256 non-null  int64\n",
            " 4   MajorImageVersion   32256 non-null  int64\n",
            " 5   MajorOSVersion      32256 non-null  int64\n",
            " 6   ExportRVA           32256 non-null  int64\n",
            " 7   ExportSize          32256 non-null  int64\n",
            " 8   IatVRA              32256 non-null  int64\n",
            " 9   MajorLinkerVersion  32256 non-null  int64\n",
            " 10  MinorLinkerVersion  32256 non-null  int64\n",
            " 11  NumberOfSections    32256 non-null  int64\n",
            " 12  SizeOfStackReserve  32256 non-null  int64\n",
            " 13  DllCharacteristics  32256 non-null  int64\n",
            " 14  ResourceSize        32256 non-null  int64\n",
            " 15  BitcoinAddresses    32256 non-null  int64\n",
            " 16  Benign              32256 non-null  int64\n",
            "dtypes: int64(17)\n",
            "memory usage: 4.2 MB\n"
          ]
        }
      ],
      "source": [
        "df = pd.read_csv(\"df_clear.csv\")\n",
        "df.info()"
      ]
    },
    {
      "cell_type": "code",
      "execution_count": 4,
      "metadata": {
        "execution": {
          "iopub.execute_input": "2024-03-29T16:46:19.649772Z",
          "iopub.status.busy": "2024-03-29T16:46:19.649428Z",
          "iopub.status.idle": "2024-03-29T16:46:19.655014Z",
          "shell.execute_reply": "2024-03-29T16:46:19.654064Z",
          "shell.execute_reply.started": "2024-03-29T16:46:19.649742Z"
        },
        "trusted": true,
        "id": "s6Ro-v0cTHl5"
      },
      "outputs": [],
      "source": [
        "X = df.iloc[:, 1:-1].values\n",
        "Y = df.iloc[:, -1].values"
      ]
    },
    {
      "cell_type": "code",
      "source": [
        "X"
      ],
      "metadata": {
        "colab": {
          "base_uri": "https://localhost:8080/"
        },
        "id": "3XaOg-oIiIeK",
        "outputId": "7534796f-6665-4153-8a76-d3fc2dd025dc"
      },
      "execution_count": 37,
      "outputs": [
        {
          "output_type": "execute_result",
          "data": {
            "text/plain": [
              "array([[ 34404,     84, 121728, ...,  16864,   1024,      0],\n",
              "       [ 34404,     84,  19904, ...,  16736,   1040,      0],\n",
              "       [ 34404,     84,  97728, ...,  16736,   1096,      0],\n",
              "       ...,\n",
              "       [   332,      0,      0, ...,      0,   2364,      0],\n",
              "       [   332,      0,      0, ...,      0, 130296,      0],\n",
              "       [   332,      0,      0, ...,      0,   6912,      0]])"
            ]
          },
          "metadata": {},
          "execution_count": 37
        }
      ]
    },
    {
      "cell_type": "code",
      "execution_count": 5,
      "metadata": {
        "execution": {
          "iopub.execute_input": "2024-03-29T16:46:19.658399Z",
          "iopub.status.busy": "2024-03-29T16:46:19.657967Z",
          "iopub.status.idle": "2024-03-29T16:46:19.674687Z",
          "shell.execute_reply": "2024-03-29T16:46:19.673598Z",
          "shell.execute_reply.started": "2024-03-29T16:46:19.658367Z"
        },
        "trusted": true,
        "id": "e1bfjnbkTHl6"
      },
      "outputs": [],
      "source": [
        "X_train, X_test, y_train, y_test = train_test_split(X, Y, test_size=0.2, random_state=0)"
      ]
    },
    {
      "cell_type": "code",
      "execution_count": 6,
      "metadata": {
        "execution": {
          "iopub.execute_input": "2024-03-29T16:46:19.676871Z",
          "iopub.status.busy": "2024-03-29T16:46:19.676174Z",
          "iopub.status.idle": "2024-03-29T16:46:20.013575Z",
          "shell.execute_reply": "2024-03-29T16:46:20.012335Z",
          "shell.execute_reply.started": "2024-03-29T16:46:19.676837Z"
        },
        "trusted": true,
        "colab": {
          "base_uri": "https://localhost:8080/"
        },
        "id": "--nluTvNTHl6",
        "outputId": "23cd5bd5-24f9-447b-c012-3d8788f5260e"
      },
      "outputs": [
        {
          "output_type": "stream",
          "name": "stderr",
          "text": [
            "/usr/local/lib/python3.11/dist-packages/keras/src/layers/rnn/rnn.py:200: UserWarning: Do not pass an `input_shape`/`input_dim` argument to a layer. When using Sequential models, prefer using an `Input(shape)` object as the first layer in the model instead.\n",
            "  super().__init__(**kwargs)\n"
          ]
        }
      ],
      "source": [
        "model = Sequential()\n",
        "model.add(LSTM(100, input_shape=(X_train.shape[1], 1)))\n",
        "model.add(Dense(1, activation='sigmoid'))"
      ]
    },
    {
      "cell_type": "code",
      "execution_count": 7,
      "metadata": {
        "execution": {
          "iopub.execute_input": "2024-03-29T16:46:20.015519Z",
          "iopub.status.busy": "2024-03-29T16:46:20.015139Z",
          "iopub.status.idle": "2024-03-29T16:46:20.032042Z",
          "shell.execute_reply": "2024-03-29T16:46:20.030624Z",
          "shell.execute_reply.started": "2024-03-29T16:46:20.015489Z"
        },
        "trusted": true,
        "id": "dlohcrnQTHl7"
      },
      "outputs": [],
      "source": [
        "model.compile(loss='binary_crossentropy', optimizer='adam', metrics=['accuracy'])"
      ]
    },
    {
      "cell_type": "code",
      "execution_count": 8,
      "metadata": {
        "execution": {
          "iopub.execute_input": "2024-03-29T16:46:20.033865Z",
          "iopub.status.busy": "2024-03-29T16:46:20.033529Z",
          "iopub.status.idle": "2024-03-29T16:46:20.038474Z",
          "shell.execute_reply": "2024-03-29T16:46:20.037259Z",
          "shell.execute_reply.started": "2024-03-29T16:46:20.033837Z"
        },
        "trusted": true,
        "id": "XNsoS3IyTHl7"
      },
      "outputs": [],
      "source": [
        "early_stopping = EarlyStopping(monitor='val_loss', patience=3, restore_best_weights=True)"
      ]
    },
    {
      "cell_type": "code",
      "execution_count": 9,
      "metadata": {
        "execution": {
          "iopub.execute_input": "2024-03-29T16:46:20.041326Z",
          "iopub.status.busy": "2024-03-29T16:46:20.040445Z",
          "iopub.status.idle": "2024-03-29T16:49:29.728800Z",
          "shell.execute_reply": "2024-03-29T16:49:29.727492Z",
          "shell.execute_reply.started": "2024-03-29T16:46:20.041289Z"
        },
        "trusted": true,
        "colab": {
          "base_uri": "https://localhost:8080/"
        },
        "id": "JPW83_E2THl7",
        "outputId": "73916e59-9305-40f0-8622-3cb8cdd65002"
      },
      "outputs": [
        {
          "output_type": "stream",
          "name": "stdout",
          "text": [
            "Epoch 1/20\n",
            "\u001b[1m807/807\u001b[0m \u001b[32m━━━━━━━━━━━━━━━━━━━━\u001b[0m\u001b[37m\u001b[0m \u001b[1m8s\u001b[0m 6ms/step - accuracy: 0.8860 - loss: 0.2608 - val_accuracy: 0.9609 - val_loss: 0.1143\n",
            "Epoch 2/20\n",
            "\u001b[1m807/807\u001b[0m \u001b[32m━━━━━━━━━━━━━━━━━━━━\u001b[0m\u001b[37m\u001b[0m \u001b[1m4s\u001b[0m 5ms/step - accuracy: 0.9554 - loss: 0.1223 - val_accuracy: 0.9619 - val_loss: 0.1027\n",
            "Epoch 3/20\n",
            "\u001b[1m807/807\u001b[0m \u001b[32m━━━━━━━━━━━━━━━━━━━━\u001b[0m\u001b[37m\u001b[0m \u001b[1m5s\u001b[0m 5ms/step - accuracy: 0.9628 - loss: 0.1050 - val_accuracy: 0.9780 - val_loss: 0.0696\n",
            "Epoch 4/20\n",
            "\u001b[1m807/807\u001b[0m \u001b[32m━━━━━━━━━━━━━━━━━━━━\u001b[0m\u001b[37m\u001b[0m \u001b[1m5s\u001b[0m 6ms/step - accuracy: 0.9728 - loss: 0.0786 - val_accuracy: 0.9781 - val_loss: 0.0669\n",
            "Epoch 5/20\n",
            "\u001b[1m807/807\u001b[0m \u001b[32m━━━━━━━━━━━━━━━━━━━━\u001b[0m\u001b[37m\u001b[0m \u001b[1m5s\u001b[0m 5ms/step - accuracy: 0.9764 - loss: 0.0679 - val_accuracy: 0.9772 - val_loss: 0.0732\n",
            "Epoch 6/20\n",
            "\u001b[1m807/807\u001b[0m \u001b[32m━━━━━━━━━━━━━━━━━━━━\u001b[0m\u001b[37m\u001b[0m \u001b[1m5s\u001b[0m 6ms/step - accuracy: 0.9765 - loss: 0.0662 - val_accuracy: 0.9786 - val_loss: 0.0683\n",
            "Epoch 7/20\n",
            "\u001b[1m807/807\u001b[0m \u001b[32m━━━━━━━━━━━━━━━━━━━━\u001b[0m\u001b[37m\u001b[0m \u001b[1m4s\u001b[0m 5ms/step - accuracy: 0.9777 - loss: 0.0652 - val_accuracy: 0.9802 - val_loss: 0.0637\n",
            "Epoch 8/20\n",
            "\u001b[1m807/807\u001b[0m \u001b[32m━━━━━━━━━━━━━━━━━━━━\u001b[0m\u001b[37m\u001b[0m \u001b[1m4s\u001b[0m 5ms/step - accuracy: 0.9762 - loss: 0.0659 - val_accuracy: 0.9803 - val_loss: 0.0635\n",
            "Epoch 9/20\n",
            "\u001b[1m807/807\u001b[0m \u001b[32m━━━━━━━━━━━━━━━━━━━━\u001b[0m\u001b[37m\u001b[0m \u001b[1m5s\u001b[0m 6ms/step - accuracy: 0.9772 - loss: 0.0628 - val_accuracy: 0.9786 - val_loss: 0.0631\n",
            "Epoch 10/20\n",
            "\u001b[1m807/807\u001b[0m \u001b[32m━━━━━━━━━━━━━━━━━━━━\u001b[0m\u001b[37m\u001b[0m \u001b[1m4s\u001b[0m 5ms/step - accuracy: 0.9802 - loss: 0.0586 - val_accuracy: 0.9772 - val_loss: 0.0683\n",
            "Epoch 11/20\n",
            "\u001b[1m807/807\u001b[0m \u001b[32m━━━━━━━━━━━━━━━━━━━━\u001b[0m\u001b[37m\u001b[0m \u001b[1m4s\u001b[0m 5ms/step - accuracy: 0.9777 - loss: 0.0606 - val_accuracy: 0.9797 - val_loss: 0.0606\n",
            "Epoch 12/20\n",
            "\u001b[1m807/807\u001b[0m \u001b[32m━━━━━━━━━━━━━━━━━━━━\u001b[0m\u001b[37m\u001b[0m \u001b[1m5s\u001b[0m 6ms/step - accuracy: 0.9807 - loss: 0.0582 - val_accuracy: 0.9792 - val_loss: 0.0587\n",
            "Epoch 13/20\n",
            "\u001b[1m807/807\u001b[0m \u001b[32m━━━━━━━━━━━━━━━━━━━━\u001b[0m\u001b[37m\u001b[0m \u001b[1m4s\u001b[0m 5ms/step - accuracy: 0.9813 - loss: 0.0547 - val_accuracy: 0.9812 - val_loss: 0.0600\n",
            "Epoch 14/20\n",
            "\u001b[1m807/807\u001b[0m \u001b[32m━━━━━━━━━━━━━━━━━━━━\u001b[0m\u001b[37m\u001b[0m \u001b[1m6s\u001b[0m 7ms/step - accuracy: 0.9798 - loss: 0.0570 - val_accuracy: 0.9817 - val_loss: 0.0616\n",
            "Epoch 15/20\n",
            "\u001b[1m807/807\u001b[0m \u001b[32m━━━━━━━━━━━━━━━━━━━━\u001b[0m\u001b[37m\u001b[0m \u001b[1m9s\u001b[0m 5ms/step - accuracy: 0.9818 - loss: 0.0523 - val_accuracy: 0.9774 - val_loss: 0.0651\n"
          ]
        }
      ],
      "source": [
        "history = model.fit(X_train.reshape(X_train.shape[0], X_train.shape[1], 1), y_train, epochs=20, batch_size=32, validation_data=(X_test.reshape(X_test.shape[0], X_test.shape[1], 1), y_test), callbacks=[early_stopping])"
      ]
    },
    {
      "cell_type": "code",
      "execution_count": 10,
      "metadata": {
        "execution": {
          "iopub.execute_input": "2024-03-29T16:49:29.731816Z",
          "iopub.status.busy": "2024-03-29T16:49:29.730775Z",
          "iopub.status.idle": "2024-03-29T16:49:30.765504Z",
          "shell.execute_reply": "2024-03-29T16:49:30.764293Z",
          "shell.execute_reply.started": "2024-03-29T16:49:29.731765Z"
        },
        "trusted": true,
        "colab": {
          "base_uri": "https://localhost:8080/"
        },
        "id": "mH5X6En_THl8",
        "outputId": "1cb2eb0d-402e-4baa-ef5d-953645bb97db"
      },
      "outputs": [
        {
          "output_type": "stream",
          "name": "stdout",
          "text": [
            "Accuracy: 0.98\n"
          ]
        }
      ],
      "source": [
        "accuracy = model.evaluate(X_test.reshape(X_test.shape[0], X_test.shape[1], 1), y_test, verbose=0)[1]\n",
        "print(f\"Accuracy: {accuracy:.2f}\")"
      ]
    },
    {
      "cell_type": "code",
      "execution_count": 11,
      "metadata": {
        "execution": {
          "iopub.execute_input": "2024-03-29T16:49:30.767297Z",
          "iopub.status.busy": "2024-03-29T16:49:30.766939Z",
          "iopub.status.idle": "2024-03-29T16:49:32.369387Z",
          "shell.execute_reply": "2024-03-29T16:49:32.368383Z",
          "shell.execute_reply.started": "2024-03-29T16:49:30.767238Z"
        },
        "trusted": true,
        "colab": {
          "base_uri": "https://localhost:8080/"
        },
        "id": "kqClDGMVTHl8",
        "outputId": "a0c749b7-151a-41ab-8177-60d5d226f9cd"
      },
      "outputs": [
        {
          "output_type": "stream",
          "name": "stdout",
          "text": [
            "\u001b[1m202/202\u001b[0m \u001b[32m━━━━━━━━━━━━━━━━━━━━\u001b[0m\u001b[37m\u001b[0m \u001b[1m1s\u001b[0m 2ms/step\n"
          ]
        }
      ],
      "source": [
        "y_pred = (model.predict(X_test.reshape(X_test.shape[0], X_test.shape[1], 1)) > 0.5).astype(\"int32\")"
      ]
    },
    {
      "cell_type": "code",
      "execution_count": 12,
      "metadata": {
        "execution": {
          "iopub.execute_input": "2024-03-29T16:49:32.371162Z",
          "iopub.status.busy": "2024-03-29T16:49:32.370794Z",
          "iopub.status.idle": "2024-03-29T16:49:32.380422Z",
          "shell.execute_reply": "2024-03-29T16:49:32.379305Z",
          "shell.execute_reply.started": "2024-03-29T16:49:32.371132Z"
        },
        "trusted": true,
        "colab": {
          "base_uri": "https://localhost:8080/"
        },
        "id": "86O-O1jeTHl8",
        "outputId": "b3a94123-0edf-401a-f41e-2751e3822275"
      },
      "outputs": [
        {
          "output_type": "stream",
          "name": "stdout",
          "text": [
            "Confusion Matrix:\n",
            "[[2104   37]\n",
            " [  97 4214]]\n"
          ]
        }
      ],
      "source": [
        "cm = confusion_matrix(y_test, y_pred)\n",
        "print(\"Confusion Matrix:\")\n",
        "print(cm)"
      ]
    },
    {
      "cell_type": "code",
      "execution_count": 13,
      "metadata": {
        "execution": {
          "iopub.execute_input": "2024-03-29T16:49:32.382240Z",
          "iopub.status.busy": "2024-03-29T16:49:32.381873Z",
          "iopub.status.idle": "2024-03-29T16:49:32.579552Z",
          "shell.execute_reply": "2024-03-29T16:49:32.578304Z",
          "shell.execute_reply.started": "2024-03-29T16:49:32.382210Z"
        },
        "trusted": true,
        "colab": {
          "base_uri": "https://localhost:8080/",
          "height": 581
        },
        "id": "Cn9AmHzNTHl8",
        "outputId": "d54275df-8d23-4da9-860c-27bddd5c71e3"
      },
      "outputs": [
        {
          "output_type": "display_data",
          "data": {
            "text/plain": [
              "<Figure size 640x480 with 0 Axes>"
            ]
          },
          "metadata": {}
        },
        {
          "output_type": "display_data",
          "data": {
            "text/plain": [
              "<Figure size 800x600 with 1 Axes>"
            ],
            "image/png": "[encoded data removed]"
          },
          "metadata": {}
        }
      ],
      "source": [
        "plt.figure()\n",
        "plot_confusion_matrix(cm, figsize=(8, 6))\n",
        "plt.title(\"Confusion Matrix\")\n",
        "plt.show()"
      ]
    },
    {
      "cell_type": "code",
      "execution_count": 14,
      "metadata": {
        "execution": {
          "iopub.execute_input": "2024-03-29T16:49:32.585447Z",
          "iopub.status.busy": "2024-03-29T16:49:32.584921Z",
          "iopub.status.idle": "2024-03-29T16:49:32.614082Z",
          "shell.execute_reply": "2024-03-29T16:49:32.613207Z",
          "shell.execute_reply.started": "2024-03-29T16:49:32.585402Z"
        },
        "trusted": true,
        "colab": {
          "base_uri": "https://localhost:8080/"
        },
        "id": "ORb83HQVTHl8",
        "outputId": "a3058859-a42e-45da-e2fb-bdb06616f1bf"
      },
      "outputs": [
        {
          "output_type": "stream",
          "name": "stdout",
          "text": [
            "Classification Report:\n",
            "              precision    recall  f1-score   support\n",
            "\n",
            "           0       0.96      0.98      0.97      2141\n",
            "           1       0.99      0.98      0.98      4311\n",
            "\n",
            "    accuracy                           0.98      6452\n",
            "   macro avg       0.97      0.98      0.98      6452\n",
            "weighted avg       0.98      0.98      0.98      6452\n",
            "\n"
          ]
        }
      ],
      "source": [
        "class_report = classification_report(y_test, y_pred)\n",
        "print(\"Classification Report:\")\n",
        "print(class_report)"
      ]
    },
    {
      "cell_type": "code",
      "execution_count": 15,
      "metadata": {
        "execution": {
          "iopub.execute_input": "2024-03-29T16:49:32.619704Z",
          "iopub.status.busy": "2024-03-29T16:49:32.619060Z",
          "iopub.status.idle": "2024-03-29T16:49:32.928905Z"
        },
        "trusted": true,
        "colab": {
          "base_uri": "https://localhost:8080/",
          "height": 581
        },
        "id": "tmQSCZcJTHl9",
        "outputId": "8644e958-552b-44bb-f3ce-271b6e8d9bee"
      },
      "outputs": [
        {
          "output_type": "execute_result",
          "data": {
            "text/plain": [
              "<matplotlib.legend.Legend at 0x7f7ce9be0d50>"
            ]
          },
          "metadata": {},
          "execution_count": 15
        },
        {
          "output_type": "display_data",
          "data": {
            "text/plain": [
              "<Figure size 1200x600 with 1 Axes>"
            ],
            "image/png": "[encoded data removed]"
          },
          "metadata": {}
        }
      ],
      "source": [
        "plt.figure(figsize=(12, 6))\n",
        "plt.subplot(1, 2, 1)\n",
        "plt.plot(history.history['accuracy'])\n",
        "plt.plot(history.history['val_accuracy'])\n",
        "plt.title('Model Accuracy')\n",
        "plt.xlabel('Epoch')\n",
        "plt.ylabel('Accuracy')\n",
        "plt.legend(['Train', 'Test'], loc='upper left')"
      ]
    },
    {
      "cell_type": "code",
      "execution_count": 16,
      "metadata": {
        "execution": {
          "iopub.execute_input": "2024-03-29T16:49:32.931308Z",
          "iopub.status.busy": "2024-03-29T16:49:32.930784Z",
          "iopub.status.idle": "2024-03-29T16:49:33.206218Z"
        },
        "trusted": true,
        "colab": {
          "base_uri": "https://localhost:8080/",
          "height": 487
        },
        "id": "6vlF5632THl9",
        "outputId": "0a35d83c-7140-4189-af98-ae6a9539fd35"
      },
      "outputs": [
        {
          "output_type": "display_data",
          "data": {
            "text/plain": [
              "<Figure size 640x480 with 1 Axes>"
            ],
            "image/png": "[encoded data removed]"
          },
          "metadata": {}
        }
      ],
      "source": [
        "plt.subplot(1, 2, 2)\n",
        "plt.plot(history.history['loss'])\n",
        "plt.plot(history.history['val_loss'])\n",
        "plt.title('Model Loss')\n",
        "plt.xlabel('Epoch')\n",
        "plt.ylabel('Loss')\n",
        "plt.legend(['Train', 'Test'], loc='upper left')\n",
        "plt.tight_layout()\n",
        "plt.show()"
      ]
    },
    {
      "cell_type": "code",
      "execution_count": 17,
      "metadata": {
        "execution": {
          "iopub.execute_input": "2024-03-29T16:49:33.208179Z",
          "iopub.status.busy": "2024-03-29T16:49:33.207839Z",
          "iopub.status.idle": "2024-03-29T16:49:33.468543Z"
        },
        "trusted": true,
        "colab": {
          "base_uri": "https://localhost:8080/",
          "height": 472
        },
        "id": "UOQkwK_DTHl9",
        "outputId": "dad34daa-5179-4b26-830a-ba4edc3df8a8"
      },
      "outputs": [
        {
          "output_type": "display_data",
          "data": {
            "text/plain": [
              "<Figure size 640x480 with 1 Axes>"
            ],
            "image/png": "[encoded data removed]"
          },
          "metadata": {}
        }
      ],
      "source": [
        "fpr, tpr, _ = roc_curve(y_test, y_pred)\n",
        "roc_auc = auc(fpr, tpr)\n",
        "plt.figure()\n",
        "plt.plot(fpr, tpr, color='darkorange', lw=2, label='ROC curve (area = %0.2f)' % roc_auc)\n",
        "plt.plot([0, 1], [0, 1], color='navy', lw=2, linestyle='--')\n",
        "plt.xlim([0.0, 1.0])\n",
        "plt.ylim([0.0, 1.05])\n",
        "plt.xlabel('False Positive Rate')\n",
        "plt.ylabel('True Positive Rate')\n",
        "plt.title('Receiver Operating Characteristic (ROC) Curve')\n",
        "plt.legend(loc=\"lower right\")\n",
        "plt.show()"
      ]
    },
    {
      "cell_type": "code",
      "execution_count": 18,
      "metadata": {
        "execution": {
          "iopub.execute_input": "2024-03-29T16:49:33.470588Z",
          "iopub.status.busy": "2024-03-29T16:49:33.470176Z",
          "iopub.status.idle": "2024-03-29T16:49:33.718080Z"
        },
        "trusted": true,
        "colab": {
          "base_uri": "https://localhost:8080/",
          "height": 472
        },
        "id": "QAwJ-YxjTHl-",
        "outputId": "a2f69ebb-92a4-4c19-e418-1d508e9f6672"
      },
      "outputs": [
        {
          "output_type": "display_data",
          "data": {
            "text/plain": [
              "<Figure size 640x480 with 1 Axes>"
            ],
            "image/png": "[encoded data removed]"
          },
          "metadata": {}
        }
      ],
      "source": [
        "precision, recall, _ = precision_recall_curve(y_test, y_pred)\n",
        "plt.figure()\n",
        "plt.plot(recall, precision, color='blue', lw=2, label='Precision-Recall curve')\n",
        "plt.xlabel('Recall')\n",
        "plt.ylabel('Precision')\n",
        "plt.title('Precision-Recall Curve')\n",
        "plt.legend(loc=\"lower left\")\n",
        "plt.show()"
      ]
    },
    {
      "cell_type": "code",
      "execution_count": 20,
      "metadata": {
        "execution": {
          "iopub.execute_input": "2024-03-29T16:52:44.325879Z",
          "iopub.status.busy": "2024-03-29T16:52:44.325502Z",
          "iopub.status.idle": "2024-03-29T16:54:33.016887Z",
          "shell.execute_reply": "2024-03-29T16:54:33.015073Z",
          "shell.execute_reply.started": "2024-03-29T16:52:44.325851Z"
        },
        "trusted": true,
        "colab": {
          "base_uri": "https://localhost:8080/"
        },
        "id": "D0a674s7THl-",
        "outputId": "9c7da044-d82a-475a-8c80-edaae67b22f7"
      },
      "outputs": [
        {
          "output_type": "stream",
          "name": "stdout",
          "text": [
            "Enter the features for a test case:\n",
            "Enter the value for Machine: 332\n",
            "Enter the value for DebugSize: 0\n",
            "Enter the value for DebugRVA: 0\n",
            "Enter the value for MajorImageVersion: 0\n",
            "Enter the value for MajorOSVersion: 4\n",
            "Enter the value for ExportRVA: 0\n",
            "Enter the value for ExportSize: 0\n",
            "Enter the value for IatVRA: 8912\n",
            "Enter the value for MajorLinkerVersion: 2\n",
            "Enter the value for MinorLinkerVersion: 1\n",
            "Enter the value for NumberOfSections: 66\n",
            "Enter the value for SizeOfStackReserve: 34\n",
            "Enter the value for DllCharacteristics: 234\n",
            "Enter the value for ResourceSize: 342\n",
            "Enter the value for BitcoinAddresses: 23\n",
            "\u001b[1m1/1\u001b[0m \u001b[32m━━━━━━━━━━━━━━━━━━━━\u001b[0m\u001b[37m\u001b[0m \u001b[1m0s\u001b[0m 122ms/step\n",
            "\n",
            "Test Case:\n",
            "[[[3.320e+02]\n",
            "  [0.000e+00]\n",
            "  [0.000e+00]\n",
            "  [0.000e+00]\n",
            "  [4.000e+00]\n",
            "  [0.000e+00]\n",
            "  [0.000e+00]\n",
            "  [8.912e+03]\n",
            "  [2.000e+00]\n",
            "  [1.000e+00]\n",
            "  [6.600e+01]\n",
            "  [3.400e+01]\n",
            "  [2.340e+02]\n",
            "  [3.420e+02]\n",
            "  [2.300e+01]]]\n",
            "Predicted Probability: 0.056626957\n",
            "Predicted Label: Malicious\n"
          ]
        }
      ],
      "source": [
        "\n",
        "print(\"Enter the features for a test case:\")\n",
        "test_case = []\n",
        "feature_names = df.columns[1:-1]\n",
        "for feature_name in feature_names:\n",
        "    value = float(input(f\"Enter the value for {feature_name}: \"))\n",
        "    test_case.append(value)\n",
        "test_case = np.array(test_case).reshape(1, -1, 1)\n",
        "predicted_prob = model.predict(test_case)[0][0]\n",
        "predicted_label = \"Benign\" if predicted_prob > 0.5 else \"Malicious\"\n",
        "print(\"\\nTest Case:\")\n",
        "print(test_case)\n",
        "print(\"Predicted Probability:\", predicted_prob)\n",
        "print(\"Predicted Label:\", predicted_label)"
      ]
    },
    {
      "cell_type": "code",
      "source": [
        "from tensorflow import keras\n",
        "from keras.models import load_model"
      ],
      "metadata": {
        "id": "hIVwX-9faEfM"
      },
      "execution_count": 22,
      "outputs": []
    },
    {
      "cell_type": "code",
      "source": [
        "model.save(\"lstm_model.h5\")"
      ],
      "metadata": {
        "colab": {
          "base_uri": "https://localhost:8080/"
        },
        "id": "rR5_2sNzWa-w",
        "outputId": "a7f60fbc-66ad-478f-ef12-6899f79c6b6f"
      },
      "execution_count": 24,
      "outputs": [
        {
          "output_type": "stream",
          "name": "stderr",
          "text": [
            "WARNING:absl:You are saving your model as an HDF5 file via `model.save()` or `keras.saving.save_model(model)`. This file format is considered legacy. We recommend using instead the native Keras format, e.g. `model.save('my_model.keras')` or `keras.saving.save_model(model, 'my_model.keras')`. \n"
          ]
        }
      ]
    },
    {
      "cell_type": "code",
      "source": [
        "!pip install gradio"
      ],
      "metadata": {
        "colab": {
          "base_uri": "https://localhost:8080/"
        },
        "id": "ztp_WU5KagH_",
        "outputId": "4f7dce5b-e47e-4a33-dead-93b740c6ba44"
      },
      "execution_count": 26,
      "outputs": [
        {
          "output_type": "stream",
          "name": "stdout",
          "text": [
            "Collecting gradio\n",
            "  Downloading gradio-5.27.0-py3-none-any.whl.metadata (16 kB)\n",
            "Collecting aiofiles<25.0,>=22.0 (from gradio)\n",
            "  Downloading aiofiles-24.1.0-py3-none-any.whl.metadata (10 kB)\n",
            "Requirement already satisfied: anyio<5.0,>=3.0 in /usr/local/lib/python3.11/dist-packages (from gradio) (4.9.0)\n",
            "Collecting fastapi<1.0,>=0.115.2 (from gradio)\n",
            "  Downloading fastapi-0.115.12-py3-none-any.whl.metadata (27 kB)\n",
            "Collecting ffmpy (from gradio)\n",
            "  Downloading ffmpy-0.5.0-py3-none-any.whl.metadata (3.0 kB)\n",
            "Collecting gradio-client==1.9.0 (from gradio)\n",
            "  Downloading gradio_client-1.9.0-py3-none-any.whl.metadata (7.1 kB)\n",
            "Collecting groovy~=0.1 (from gradio)\n",
            "  Downloading groovy-0.1.2-py3-none-any.whl.metadata (6.1 kB)\n",
            "Requirement already satisfied: httpx>=0.24.1 in /usr/local/lib/python3.11/dist-packages (from gradio) (0.28.1)\n",
            "Requirement already satisfied: huggingface-hub>=0.28.1 in /usr/local/lib/python3.11/dist-packages (from gradio) (0.30.2)\n",
            "Requirement already satisfied: jinja2<4.0 in /usr/local/lib/python3.11/dist-packages (from gradio) (3.1.6)\n",
            "Requirement already satisfied: markupsafe<4.0,>=2.0 in /usr/local/lib/python3.11/dist-packages (from gradio) (3.0.2)\n",
            "Requirement already satisfied: numpy<3.0,>=1.0 in /usr/local/lib/python3.11/dist-packages (from gradio) (2.0.2)\n",
            "Requirement already satisfied: orjson~=3.0 in /usr/local/lib/python3.11/dist-packages (from gradio) (3.10.16)\n",
            "Requirement already satisfied: packaging in /usr/local/lib/python3.11/dist-packages (from gradio) (24.2)\n",
            "Requirement already satisfied: pandas<3.0,>=1.0 in /usr/local/lib/python3.11/dist-packages (from gradio) (2.2.2)\n",
            "Requirement already satisfied: pillow<12.0,>=8.0 in /usr/local/lib/python3.11/dist-packages (from gradio) (11.1.0)\n",
            "Requirement already satisfied: pydantic<2.12,>=2.0 in /usr/local/lib/python3.11/dist-packages (from gradio) (2.11.3)\n",
            "Collecting pydub (from gradio)\n",
            "  Downloading pydub-0.25.1-py2.py3-none-any.whl.metadata (1.4 kB)\n",
            "Collecting python-multipart>=0.0.18 (from gradio)\n",
            "  Downloading python_multipart-0.0.20-py3-none-any.whl.metadata (1.8 kB)\n",
            "Requirement already satisfied: pyyaml<7.0,>=5.0 in /usr/local/lib/python3.11/dist-packages (from gradio) (6.0.2)\n",
            "Collecting ruff>=0.9.3 (from gradio)\n",
            "  Downloading ruff-0.11.7-py3-none-manylinux_2_17_x86_64.manylinux2014_x86_64.whl.metadata (25 kB)\n",
            "Collecting safehttpx<0.2.0,>=0.1.6 (from gradio)\n",
            "  Downloading safehttpx-0.1.6-py3-none-any.whl.metadata (4.2 kB)\n",
            "Collecting semantic-version~=2.0 (from gradio)\n",
            "  Downloading semantic_version-2.10.0-py2.py3-none-any.whl.metadata (9.7 kB)\n",
            "Collecting starlette<1.0,>=0.40.0 (from gradio)\n",
            "  Downloading starlette-0.46.2-py3-none-any.whl.metadata (6.2 kB)\n",
            "Collecting tomlkit<0.14.0,>=0.12.0 (from gradio)\n",
            "  Downloading tomlkit-0.13.2-py3-none-any.whl.metadata (2.7 kB)\n",
            "Requirement already satisfied: typer<1.0,>=0.12 in /usr/local/lib/python3.11/dist-packages (from gradio) (0.15.2)\n",
            "Requirement already satisfied: typing-extensions~=4.0 in /usr/local/lib/python3.11/dist-packages (from gradio) (4.13.2)\n",
            "Collecting uvicorn>=0.14.0 (from gradio)\n",
            "  Downloading uvicorn-0.34.2-py3-none-any.whl.metadata (6.5 kB)\n",
            "Requirement already satisfied: fsspec in /usr/local/lib/python3.11/dist-packages (from gradio-client==1.9.0->gradio) (2025.3.2)\n",
            "Requirement already satisfied: websockets<16.0,>=10.0 in /usr/local/lib/python3.11/dist-packages (from gradio-client==1.9.0->gradio) (15.0.1)\n",
            "Requirement already satisfied: idna>=2.8 in /usr/local/lib/python3.11/dist-packages (from anyio<5.0,>=3.0->gradio) (3.10)\n",
            "Requirement already satisfied: sniffio>=1.1 in /usr/local/lib/python3.11/dist-packages (from anyio<5.0,>=3.0->gradio) (1.3.1)\n",
            "Requirement already satisfied: certifi in /usr/local/lib/python3.11/dist-packages (from httpx>=0.24.1->gradio) (2025.1.31)\n",
            "Requirement already satisfied: httpcore==1.* in /usr/local/lib/python3.11/dist-packages (from httpx>=0.24.1->gradio) (1.0.8)\n",
            "Requirement already satisfied: h11<0.15,>=0.13 in /usr/local/lib/python3.11/dist-packages (from httpcore==1.*->httpx>=0.24.1->gradio) (0.14.0)\n",
            "Requirement already satisfied: filelock in /usr/local/lib/python3.11/dist-packages (from huggingface-hub>=0.28.1->gradio) (3.18.0)\n",
            "Requirement already satisfied: requests in /usr/local/lib/python3.11/dist-packages (from huggingface-hub>=0.28.1->gradio) (2.32.3)\n",
            "Requirement already satisfied: tqdm>=4.42.1 in /usr/local/lib/python3.11/dist-packages (from huggingface-hub>=0.28.1->gradio) (4.67.1)\n",
            "Requirement already satisfied: python-dateutil>=2.8.2 in /usr/local/lib/python3.11/dist-packages (from pandas<3.0,>=1.0->gradio) (2.8.2)\n",
            "Requirement already satisfied: pytz>=2020.1 in /usr/local/lib/python3.11/dist-packages (from pandas<3.0,>=1.0->gradio) (2025.2)\n",
            "Requirement already satisfied: tzdata>=2022.7 in /usr/local/lib/python3.11/dist-packages (from pandas<3.0,>=1.0->gradio) (2025.2)\n",
            "Requirement already satisfied: annotated-types>=0.6.0 in /usr/local/lib/python3.11/dist-packages (from pydantic<2.12,>=2.0->gradio) (0.7.0)\n",
            "Requirement already satisfied: pydantic-core==2.33.1 in /usr/local/lib/python3.11/dist-packages (from pydantic<2.12,>=2.0->gradio) (2.33.1)\n",
            "Requirement already satisfied: typing-inspection>=0.4.0 in /usr/local/lib/python3.11/dist-packages (from pydantic<2.12,>=2.0->gradio) (0.4.0)\n",
            "Requirement already satisfied: click>=8.0.0 in /usr/local/lib/python3.11/dist-packages (from typer<1.0,>=0.12->gradio) (8.1.8)\n",
            "Requirement already satisfied: shellingham>=1.3.0 in /usr/local/lib/python3.11/dist-packages (from typer<1.0,>=0.12->gradio) (1.5.4)\n",
            "Requirement already satisfied: rich>=10.11.0 in /usr/local/lib/python3.11/dist-packages (from typer<1.0,>=0.12->gradio) (13.9.4)\n",
            "Requirement already satisfied: six>=1.5 in /usr/local/lib/python3.11/dist-packages (from python-dateutil>=2.8.2->pandas<3.0,>=1.0->gradio) (1.17.0)\n",
            "Requirement already satisfied: markdown-it-py>=2.2.0 in /usr/local/lib/python3.11/dist-packages (from rich>=10.11.0->typer<1.0,>=0.12->gradio) (3.0.0)\n",
            "Requirement already satisfied: pygments<3.0.0,>=2.13.0 in /usr/local/lib/python3.11/dist-packages (from rich>=10.11.0->typer<1.0,>=0.12->gradio) (2.18.0)\n",
            "Requirement already satisfied: charset-normalizer<4,>=2 in /usr/local/lib/python3.11/dist-packages (from requests->huggingface-hub>=0.28.1->gradio) (3.4.1)\n",
            "Requirement already satisfied: urllib3<3,>=1.21.1 in /usr/local/lib/python3.11/dist-packages (from requests->huggingface-hub>=0.28.1->gradio) (2.3.0)\n",
            "Requirement already satisfied: mdurl~=0.1 in /usr/local/lib/python3.11/dist-packages (from markdown-it-py>=2.2.0->rich>=10.11.0->typer<1.0,>=0.12->gradio) (0.1.2)\n",
            "Downloading gradio-5.27.0-py3-none-any.whl (54.0 MB)\n",
            "\u001b[2K   \u001b[90m━━━━━━━━━━━━━━━━━━━━━━━━━━━━━━━━━━━━━━━━\u001b[0m \u001b[32m54.0/54.0 MB\u001b[0m \u001b[31m17.7 MB/s\u001b[0m eta \u001b[36m0:00:00\u001b[0m\n",
            "\u001b[?25hDownloading gradio_client-1.9.0-py3-none-any.whl (322 kB)\n",
            "\u001b[2K   \u001b[90m━━━━━━━━━━━━━━━━━━━━━━━━━━━━━━━━━━━━━━━━\u001b[0m \u001b[32m322.6/322.6 kB\u001b[0m \u001b[31m26.8 MB/s\u001b[0m eta \u001b[36m0:00:00\u001b[0m\n",
            "\u001b[?25hDownloading aiofiles-24.1.0-py3-none-any.whl (15 kB)\n",
            "Downloading fastapi-0.115.12-py3-none-any.whl (95 kB)\n",
            "\u001b[2K   \u001b[90m━━━━━━━━━━━━━━━━━━━━━━━━━━━━━━━━━━━━━━━━\u001b[0m \u001b[32m95.2/95.2 kB\u001b[0m \u001b[31m10.4 MB/s\u001b[0m eta \u001b[36m0:00:00\u001b[0m\n",
            "\u001b[?25hDownloading groovy-0.1.2-py3-none-any.whl (14 kB)\n",
            "Downloading python_multipart-0.0.20-py3-none-any.whl (24 kB)\n",
            "Downloading ruff-0.11.7-py3-none-manylinux_2_17_x86_64.manylinux2014_x86_64.whl (11.5 MB)\n",
            "\u001b[2K   \u001b[90m━━━━━━━━━━━━━━━━━━━━━━━━━━━━━━━━━━━━━━━━\u001b[0m \u001b[32m11.5/11.5 MB\u001b[0m \u001b[31m81.9 MB/s\u001b[0m eta \u001b[36m0:00:00\u001b[0m\n",
            "\u001b[?25hDownloading safehttpx-0.1.6-py3-none-any.whl (8.7 kB)\n",
            "Downloading semantic_version-2.10.0-py2.py3-none-any.whl (15 kB)\n",
            "Downloading starlette-0.46.2-py3-none-any.whl (72 kB)\n",
            "\u001b[2K   \u001b[90m━━━━━━━━━━━━━━━━━━━━━━━━━━━━━━━━━━━━━━━━\u001b[0m \u001b[32m72.0/72.0 kB\u001b[0m \u001b[31m7.6 MB/s\u001b[0m eta \u001b[36m0:00:00\u001b[0m\n",
            "\u001b[?25hDownloading tomlkit-0.13.2-py3-none-any.whl (37 kB)\n",
            "Downloading uvicorn-0.34.2-py3-none-any.whl (62 kB)\n",
            "\u001b[2K   \u001b[90m━━━━━━━━━━━━━━━━━━━━━━━━━━━━━━━━━━━━━━━━\u001b[0m \u001b[32m62.5/62.5 kB\u001b[0m \u001b[31m6.0 MB/s\u001b[0m eta \u001b[36m0:00:00\u001b[0m\n",
            "\u001b[?25hDownloading ffmpy-0.5.0-py3-none-any.whl (6.0 kB)\n",
            "Downloading pydub-0.25.1-py2.py3-none-any.whl (32 kB)\n",
            "Installing collected packages: pydub, uvicorn, tomlkit, semantic-version, ruff, python-multipart, groovy, ffmpy, aiofiles, starlette, safehttpx, gradio-client, fastapi, gradio\n",
            "Successfully installed aiofiles-24.1.0 fastapi-0.115.12 ffmpy-0.5.0 gradio-5.27.0 gradio-client-1.9.0 groovy-0.1.2 pydub-0.25.1 python-multipart-0.0.20 ruff-0.11.7 safehttpx-0.1.6 semantic-version-2.10.0 starlette-0.46.2 tomlkit-0.13.2 uvicorn-0.34.2\n"
          ]
        }
      ]
    },
    {
      "cell_type": "code",
      "source": [
        "import gradio as gr\n",
        "import numpy as np\n",
        "import pandas as pd\n",
        "import matplotlib.pyplot as plt\n",
        "from tensorflow.keras.models import load_model\n",
        "\n",
        "# Custom CSS styling\n",
        "custom_css = \"\"\"\n",
        "@import url('https://fonts.googleapis.com/css2?family=Roboto:wght@300;400;500;700&display=swap');\n",
        "\n",
        "body, .gradio-container {\n",
        "    font-family: 'Roboto', -apple-system, BlinkMacSystemFont, sans-serif !important;\n",
        "    -webkit-font-smoothing: antialiased;\n",
        "    background-color: #0D1117 !important;\n",
        "    color: #E6EDF3 !important;\n",
        "}\n",
        "\n",
        ".dark .gradio-container,\n",
        ".dark .gradio-container .block {\n",
        "    background-color: #0D1117 !important;\n",
        "    color: #E6EDF3 !important;\n",
        "}\n",
        "\n",
        ".gradio-container h1 {\n",
        "    color: #58A6FF !important;\n",
        "    font-size: 2rem !important;\n",
        "    font-weight: 700 !important;\n",
        "}\n",
        "\n",
        ".gradio-container h2 {\n",
        "    color: #58A6FF !important;\n",
        "    font-size: 1.4rem !important;\n",
        "    font-weight: 600 !important;\n",
        "}\n",
        "\n",
        ".gradio-container .block {\n",
        "    border: 1px solid #30363D !important;\n",
        "    border-radius: 12px !important;\n",
        "    padding: 20px !important;\n",
        "    background-color: #161B22 !important;\n",
        "    box-shadow: 0 4px 8px rgba(0, 0, 0, 0.2) !important;\n",
        "}\n",
        "\n",
        ".gradio-container input,\n",
        ".gradio-container .gr-number input,\n",
        ".gradio-container textarea {\n",
        "    background-color: #21262D !important;\n",
        "    color: #E6EDF3 !important;\n",
        "    border: 1px solid #30363D !important;\n",
        "    border-radius: 8px !important;\n",
        "}\n",
        "\n",
        ".gradio-container .gr-button {\n",
        "    background-color: #238636 !important;\n",
        "    color: #FFFFFF !important;\n",
        "    border-radius: 8px !important;\n",
        "    padding: 0.75rem 1.5rem !important;\n",
        "    font-weight: 500 !important;\n",
        "    transition: all 0.2s ease !important;\n",
        "}\n",
        "\n",
        ".gradio-container .gr-button:hover {\n",
        "    background-color: #2EA043 !important;\n",
        "    transform: translateY(-1px) !important;\n",
        "}\n",
        "\n",
        ".dark .gradio-container .gr-slider input[type=\"range\"] {\n",
        "    background: linear-gradient(to right, #F85149 0%, #F85149 30%, #F0883E 50%, #58A6FF 70%, #58A6FF 100%) !important;\n",
        "    height: 8px !important;\n",
        "    border-radius: 4px !important;\n",
        "}\n",
        "\n",
        ".dark .gradio-container table {\n",
        "    border: 1px solid #30363D !important;\n",
        "    border-radius: 8px !important;\n",
        "}\n",
        "\n",
        ".dark .gradio-container th {\n",
        "    background-color: #21262D !important;\n",
        "    color: #E6EDF3 !important;\n",
        "    padding: 12px !important;\n",
        "}\n",
        "\n",
        ".dark .gradio-container td {\n",
        "    padding: 12px !important;\n",
        "    color: #C9D1D9 !important;\n",
        "}\n",
        "\n",
        ".footer {\n",
        "    margin-top: 32px;\n",
        "    text-align: center;\n",
        "    padding: 12px;\n",
        "    color: #8B949E !important;\n",
        "    border-top: 1px solid #30363D;\n",
        "}\n",
        "\"\"\"\n",
        "\n",
        "# Model and data loading functions\n",
        "def load_model_and_data():\n",
        "    \"\"\"Load the LSTM model and feature data\"\"\"\n",
        "    model = load_model(\"lstm_model.h5\")\n",
        "    model.compile(loss=\"binary_crossentropy\", optimizer=\"adam\", metrics=[\"accuracy\"])\n",
        "\n",
        "    df = pd.read_csv(\"df_clear.csv\")\n",
        "    df = df.loc[:, [c for c in df.columns if not c.startswith(\"Unnamed\")]]\n",
        "    feature_names = [c for c in df.columns if c != \"Benign\"]\n",
        "\n",
        "    feature_ranges = {\n",
        "        'Machine': (0, 50000),\n",
        "        'DebugSize': (0, 1000),\n",
        "        'DebugRVA': (0, 500000),\n",
        "        'MajorImageVersion': (0, 20),\n",
        "        'MajorOSVersion': (0, 20),\n",
        "        'ExportRVA': (0, 500000),\n",
        "        'ExportSize': (0, 10000),\n",
        "        'IatVRA': (0, 500000),\n",
        "        'MajorLinkerVersion': (0, 20),\n",
        "        'MinorLinkerVersion': (0, 20),\n",
        "        'NumberOfSections': (0, 10),\n",
        "        'SizeOfStackReserve': (0, 2000000),\n",
        "        'DllCharacteristics': (0, 70000),\n",
        "        'ResourceSize': (0, 9000000),\n",
        "        'BitcoinAddresses': (0, 5),\n",
        "    }\n",
        "\n",
        "    return model, feature_names, feature_ranges\n",
        "\n",
        "# Prediction functions\n",
        "def predict_malware(model, features):\n",
        "    \"\"\"Make a single prediction using the model\"\"\"\n",
        "    x = np.array(features).reshape(1, -1, 1)\n",
        "    prob = model.predict(x, verbose=0)[0][0]\n",
        "    label = \"Benign\" if prob > 0.5 else \"Malicious\"\n",
        "    return label, float(prob)\n",
        "\n",
        "def parse_batch_input(batch_text, feature_count):\n",
        "    \"\"\"Parse comma-separated input into a list of feature arrays\"\"\"\n",
        "    lines = batch_text.strip().split('\\n')\n",
        "    batch_features = []\n",
        "\n",
        "    for line in lines:\n",
        "        if not line.strip():\n",
        "            continue\n",
        "        values = [float(x.strip()) for x in line.split(',') if x.strip()]\n",
        "        if len(values) == feature_count:\n",
        "            batch_features.append(values)\n",
        "\n",
        "    return batch_features\n",
        "\n",
        "def batch_predict_malware(model, batch_features):\n",
        "    \"\"\"Make predictions on a batch of feature arrays\"\"\"\n",
        "    results = []\n",
        "    for features in batch_features:\n",
        "        x = np.array(features).reshape(1, -1, 1)\n",
        "        prob = model.predict(x, verbose=0)[0][0]\n",
        "        label = \"Benign\" if prob > 0.5 else \"Malicious\"\n",
        "        results.append((label, float(prob), features))\n",
        "    return results\n",
        "\n",
        "# Visualization functions\n",
        "def create_prediction_plot(label, prob):\n",
        "    \"\"\"Create a visualization of the prediction results\"\"\"\n",
        "    fig, ax = plt.subplots(figsize=(6, 3), facecolor=\"#0D1117\")\n",
        "\n",
        "    benign_color = \"#58A6FF\"\n",
        "    malicious_color = \"#F85149\"\n",
        "\n",
        "    ax.barh([\"Malicious\", \"Benign\"], [1-prob, prob],\n",
        "            color=[malicious_color, benign_color],\n",
        "            height=0.5,\n",
        "            alpha=0.8)\n",
        "\n",
        "    ax.set_xlim(0, 1)\n",
        "    ax.set_facecolor(\"#0D1117\")\n",
        "    ax.tick_params(colors=\"#C9D1D9\", labelsize=10)\n",
        "\n",
        "    for i, v in enumerate([1-prob, prob]):\n",
        "        percentage = f\"{v:.1%}\"\n",
        "        ax.text(v + 0.02, i, percentage,\n",
        "                color=\"#E6EDF3\",\n",
        "                fontweight=\"bold\",\n",
        "                verticalalignment=\"center\",\n",
        "                fontsize=11)\n",
        "\n",
        "    ax.grid(axis='x', linestyle='--', alpha=0.3, color=\"#30363D\")\n",
        "\n",
        "    for spine in ax.spines.values():\n",
        "        spine.set_color(\"#30363D\")\n",
        "        spine.set_linewidth(1.5)\n",
        "\n",
        "    title_color = benign_color if label == \"Benign\" else malicious_color\n",
        "    ax.set_title(f\"Prediction: {label}\",\n",
        "                color=title_color,\n",
        "                fontweight=\"bold\",\n",
        "                fontsize=14,\n",
        "                pad=10)\n",
        "\n",
        "    plt.tight_layout()\n",
        "    return fig\n",
        "\n",
        "def create_batch_results_table(batch_results, feature_names):\n",
        "    \"\"\"Create a pandas DataFrame from batch prediction results\"\"\"\n",
        "    data = []\n",
        "    for label, prob, features in batch_results:\n",
        "        row = {f_name: f_val for f_name, f_val in zip(feature_names, features)}\n",
        "        row[\"Prediction\"] = label\n",
        "        row[\"Confidence\"] = f\"{prob:.2f}\"\n",
        "        data.append(row)\n",
        "    return pd.DataFrame(data)\n",
        "\n",
        "def create_feature_importance_plot(features, feature_names, prob):\n",
        "    \"\"\"Create a plot showing relative importance of features\"\"\"\n",
        "    fig, ax = plt.subplots(figsize=(8, 4), facecolor=\"#0D1117\")\n",
        "\n",
        "    features_array = np.array(features)\n",
        "    sorted_indices = np.argsort(np.abs(features_array))\n",
        "\n",
        "    if len(sorted_indices) > 10:\n",
        "        sorted_indices = sorted_indices[-10:]\n",
        "\n",
        "    sorted_features = features_array[sorted_indices]\n",
        "    sorted_names = [feature_names[i] for i in sorted_indices]\n",
        "\n",
        "    colors = [\"#58A6FF\" if x >= 0 else \"#F85149\" for x in sorted_features]\n",
        "\n",
        "    ax.barh(sorted_names, np.abs(sorted_features), color=colors, alpha=0.8)\n",
        "\n",
        "    ax.set_facecolor(\"#0D1117\")\n",
        "    ax.tick_params(colors=\"#C9D1D9\")\n",
        "    ax.set_title(\"Feature Magnitudes\", color=\"#E6EDF3\", fontweight=\"bold\")\n",
        "\n",
        "    ax.grid(axis='x', linestyle='--', alpha=0.3, color=\"#30363D\")\n",
        "\n",
        "    for spine in ax.spines.values():\n",
        "        spine.set_color(\"#30363D\")\n",
        "\n",
        "    plt.tight_layout()\n",
        "    return fig\n",
        "\n",
        "# Load model and data\n",
        "model, feature_names, feature_ranges = load_model_and_data()\n",
        "\n",
        "# Create the Gradio interface\n",
        "with gr.Blocks(css=custom_css, theme=gr.themes.Base()) as app:\n",
        "    gr.Markdown(\n",
        "        \"\"\"\n",
        "        <h1>🛡️ Advanced Malware Detection System</h1>\n",
        "        <p>This system uses machine learning to detect malicious software based on binary features.\n",
        "        Enter feature values below or use the batch input option for multiple predictions.</p>\n",
        "        \"\"\"\n",
        "    )\n",
        "\n",
        "    with gr.Tabs() as tabs:\n",
        "        with gr.TabItem(\"🔍 Single Analysis\", id=\"single_tab\"):\n",
        "            with gr.Row():\n",
        "                with gr.Column(scale=1):\n",
        "                    gr.Markdown(\"## 🎛️ Feature Inputs\")\n",
        "\n",
        "                    inputs = []\n",
        "                    for feat in feature_names:\n",
        "                        lo, hi = feature_ranges.get(feat, (0, 1_000_000))\n",
        "                        input_field = gr.Number(\n",
        "                            label=feat,\n",
        "                            value=lo,\n",
        "                            precision=0,\n",
        "                            minimum=lo,\n",
        "                            maximum=hi,\n",
        "                            interactive=True\n",
        "                        )\n",
        "                        inputs.append(input_field)\n",
        "\n",
        "                    predict_btn = gr.Button(\"🚀 Analyze Sample\", variant=\"primary\")\n",
        "\n",
        "                with gr.Column(scale=2):\n",
        "                    gr.Markdown(\"## 🎯 Analysis Results\")\n",
        "\n",
        "                    with gr.Row():\n",
        "                        output_label = gr.Label(label=\"Classification Result\")\n",
        "                        output_confidence = gr.Slider(\n",
        "                            label=\"Confidence Score\",\n",
        "                            minimum=0,\n",
        "                            maximum=1,\n",
        "                            step=0.01,\n",
        "                            interactive=False,\n",
        "                            elem_id=\"confidence_slider\"\n",
        "                        )\n",
        "\n",
        "                    output_plot = gr.Plot(label=\"Prediction Visualization\")\n",
        "                    feature_plot = gr.Plot(label=\"Feature Importance\", visible=True)\n",
        "\n",
        "        with gr.TabItem(\"📊 Batch Analysis\", id=\"batch_tab\"):\n",
        "            with gr.Row():\n",
        "                with gr.Column(scale=1):\n",
        "                    gr.Markdown(\"## 📝 Batch Input\")\n",
        "                    gr.Markdown(\"\"\"\n",
        "                    Enter one sample per line with comma-separated values.\n",
        "                    Each line should contain values for all features in this order:\n",
        "                    ```\n",
        "                    Machine, DebugSize, DebugRVA, ...\n",
        "                    ```\n",
        "                    \"\"\")\n",
        "\n",
        "                    batch_input = gr.TextArea(\n",
        "                        label=\"Comma-Separated Values (one sample per line)\",\n",
        "                        placeholder=f\"Example:\\n0,0,0,0,0,0,0,0,0,0,0,0,0,0,0\\n1000,500,300,5,5,1000,500,1000,5,5,3,10000,5000,5000,0\",\n",
        "                        lines=10\n",
        "                    )\n",
        "\n",
        "                    batch_predict_btn = gr.Button(\"📈 Analyze Batch\", variant=\"primary\")\n",
        "\n",
        "                with gr.Column(scale=2):\n",
        "                    gr.Markdown(\"## 📋 Batch Results\")\n",
        "                    batch_results_table = gr.Dataframe(\n",
        "                        headers=[\"Sample\", \"Prediction\", \"Confidence\"],\n",
        "                        label=\"Batch Analysis Results\"\n",
        "                    )\n",
        "\n",
        "    gr.Markdown(\n",
        "        \"\"\"\n",
        "        <div class=\"footer\">\n",
        "        <p>© 2025 Advanced Malware Detection System | Powered by TensorFlow & Gradio</p>\n",
        "        </div>\n",
        "        \"\"\"\n",
        "    )\n",
        "\n",
        "    def make_prediction(*feature_values):\n",
        "        \"\"\"Handle single sample prediction and visualization\"\"\"\n",
        "        label, prob = predict_malware(model, feature_values)\n",
        "        prediction_fig = create_prediction_plot(label, prob)\n",
        "        importance_fig = create_feature_importance_plot(feature_values, feature_names, prob)\n",
        "\n",
        "        return {\n",
        "            output_label: {label: prob},\n",
        "            output_confidence: prob,\n",
        "            output_plot: prediction_fig,\n",
        "            feature_plot: importance_fig\n",
        "        }\n",
        "\n",
        "    def handle_batch_prediction(batch_text):\n",
        "        \"\"\"Handle batch prediction from text input\"\"\"\n",
        "        try:\n",
        "            feature_arrays = parse_batch_input(batch_text, len(feature_names))\n",
        "\n",
        "            if not feature_arrays:\n",
        "                return gr.Dataframe(value=pd.DataFrame({\"Error\": [\"No valid input detected\"]}))\n",
        "\n",
        "            batch_results = batch_predict_malware(model, feature_arrays)\n",
        "            results_df = create_batch_results_table(batch_results, feature_names)\n",
        "\n",
        "            return results_df\n",
        "\n",
        "        except Exception as e:\n",
        "            error_df = pd.DataFrame({\"Error\": [f\"Error processing batch input: {str(e)}\"]})\n",
        "            return error_df\n",
        "\n",
        "    predict_btn.click(\n",
        "        fn=make_prediction,\n",
        "        inputs=inputs,\n",
        "        outputs=[output_label, output_confidence, output_plot, feature_plot]\n",
        "    )\n",
        "\n",
        "    batch_predict_btn.click(\n",
        "        fn=handle_batch_prediction,\n",
        "        inputs=[batch_input],\n",
        "        outputs=[batch_results_table]\n",
        "    )\n",
        "\n",
        "if __name__ == \"__main__\":\n",
        "    app.launch(share=True)"
      ],
      "metadata": {
        "colab": {
          "base_uri": "https://localhost:8080/",
          "height": 628
        },
        "id": "sc3mfxn4aQYh",
        "outputId": "a563b665-f6d4-408a-f56c-d321bbcf0e0e"
      },
      "execution_count": 46,
      "outputs": [
        {
          "output_type": "stream",
          "name": "stderr",
          "text": [
            "WARNING:absl:Compiled the loaded model, but the compiled metrics have yet to be built. `model.compile_metrics` will be empty until you train or evaluate the model.\n"
          ]
        },
        {
          "output_type": "stream",
          "name": "stdout",
          "text": [
            "Colab notebook detected. To show errors in colab notebook, set debug=True in launch()\n",
            "* Running on public URL: https://2926a2ec4e74ea0726.gradio.live\n",
            "\n",
            "This share link expires in 1 week. For free permanent hosting and GPU upgrades, run `gradio deploy` from the terminal in the working directory to deploy to Hugging Face Spaces (https://huggingface.co/spaces)\n"
          ]
        },
        {
          "output_type": "display_data",
          "data": {
            "text/plain": [
              "<IPython.core.display.HTML object>"
            ],
            "text/html": [
              "<div><iframe src=\"https://2926a2ec4e74ea0726.gradio.live\" width=\"100%\" height=\"500\" allow=\"autoplay; camera; microphone; clipboard-read; clipboard-write;\" frameborder=\"0\" allowfullscreen></iframe></div>"
            ]
          },
          "metadata": {}
        }
      ]
    },
    {
      "cell_type": "code",
      "source": [
        "import gradio as gr\n",
        "\n",
        "print(gr.__version__)"
      ],
      "metadata": {
        "colab": {
          "base_uri": "https://localhost:8080/"
        },
        "id": "dPBIo74wrcTo",
        "outputId": "3dfd698d-e562-45a4-d69d-bc48126dd96a"
      },
      "execution_count": 43,
      "outputs": [
        {
          "output_type": "stream",
          "name": "stdout",
          "text": [
            "5.27.0\n"
          ]
        }
      ]
    },
    {
      "cell_type": "code",
      "source": [],
      "metadata": {
        "id": "vh3wImNwrrTy"
      },
      "execution_count": null,
      "outputs": []
    }
  ],
  "metadata": {
    "kaggle": {
      "accelerator": "none",
      "dataSources": [
        {
          "datasetId": 2377687,
          "sourceId": 4010620,
          "sourceType": "datasetVersion"
        }
      ],
      "dockerImageVersionId": 30646,
      "isGpuEnabled": false,
      "isInternetEnabled": true,
      "language": "python",
      "sourceType": "notebook"
    },
    "kernelspec": {
      "display_name": "Python 3",
      "name": "python3"
    },
    "language_info": {
      "codemirror_mode": {
        "name": "ipython",
        "version": 3
      },
      "file_extension": ".py",
      "mimetype": "text/x-python",
      "name": "python",
      "nbconvert_exporter": "python",
      "pygments_lexer": "ipython3",
      "version": "3.10.13"
    },
    "colab": {
      "provenance": [],
      "gpuType": "T4"
    },
    "accelerator": "GPU"
  },
  "nbformat": 4,
  "nbformat_minor": 0
}